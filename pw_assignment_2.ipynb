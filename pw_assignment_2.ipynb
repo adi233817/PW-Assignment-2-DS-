{
  "cells": [
    {
      "cell_type": "markdown",
      "metadata": {
        "id": "yI_fah4Q13_P"
      },
      "source": [
        "1. What are data structures, and why are they important?\n",
        "\n",
        "- A data structure is a way of organizing and storing data in a computer so that it can be accessed and modified efficiently. They are important because they allow you to manage and handle large amounts of data effectively, improving the performance of your algorithms and programs. For example, a good data structure can make searching for an item lightning-fast.\n",
        "\n",
        "2. Explain the difference between mutable and immutable data types with examples.\n",
        "\n",
        "- Mutable data types can be changed after they are created. You can add, remove, or modify elements in place. Examples include lists, dictionaries, and sets.\n",
        "Immutable data types cannot be changed once they're created. If you want to \"modify\" an immutable object, you're actually creating a new one. Examples include strings, tuples, and numbers.\n",
        "\n",
        "3. What are the main differences between lists and tuples in Python?\n",
        "\n",
        "- The main differences are mutability and syntax. Lists are mutable, meaning you can change them, and are defined using square brackets []. Tuples are immutable, so you can't change them, and are defined using parentheses (). Tuples are generally used for collections of items that shouldn't change, like coordinates or database records.\n",
        "\n",
        "4. Describe how dictionaries store data.\n",
        "\n",
        "- Dictionaries store data in key-value pairs. Each key is unique and is used to retrieve its associated value. Think of it like a real-world dictionary where you look up a word (the key) to find its definition (the value). The keys must be immutable data types, such as strings, numbers, or tuples.\n",
        "\n",
        "5. Why might you use a set instead of a list in Python?\n",
        "\n",
        "- You'd use a set instead of a list when you need a collection of unique items. Sets automatically handle duplicates, ensuring each element is present only once. They are also highly optimized for performing membership tests, like checking if an item is in the collection, which is much faster than with a list.\n",
        "\n",
        "6. What is a string in Python, and how is it different from a list?\n",
        "\n",
        "- A string is a sequence of characters, like letters or numbers, used to represent text. The main difference from a list is that a string is immutable. You can't change a character in a string in place, whereas you can modify elements in a list. Also, strings are specifically for text, while lists can hold any type of data.\n",
        "\n",
        "7. How do tuples ensure data integrity in Python?\n",
        "\n",
        "- Tuples ensure data integrity because they are immutable. Once you create a tuple, you can't accidentally (or intentionally) change its contents. This makes them perfect for storing data that you know should not be altered, providing a form of protection against unexpected modifications.\n",
        "\n",
        "\n",
        "8. What is a hash table, and how does it relate to dictionaries in Python?\n",
        "\n",
        "- A hash table is a data structure that stores information using a hash function to map keys to a specific location in an array. This allows for very fast data retrieval. In Python, dictionaries are implemented using hash tables. The dictionary keys are \"hashed\" to determine where their values are stored, which is why dictionaries are so efficient for lookups.\n",
        "\n",
        "9. Can lists contain different data types in Python?\n",
        "\n",
        "- Yes, a list can contain different data types. For example, a single list could hold an integer, a string, and a float all at the same time, like [1, 'hello', 3.14].\n",
        "\n",
        "\n",
        "0. Explain why strings are immutable in Python.\n",
        "\n",
        "- Strings are immutable because it allows for optimization and ensures consistency. Python can be more efficient with memory and speed when it knows a string won't change. Also, immutability makes them hashable, which is a requirement for using them as keys in a dictionary.\n",
        "\n",
        "11. What advantages do dictionaries offer over lists for certain tasks?\n",
        "\n",
        "- Dictionaries are much better than lists for fast lookups and data retrieval. If you need to find an item based on a specific key (like a user's ID or a product name), a dictionary can do it in near-constant time, regardless of how many items are in it. With a list, you'd have to search from the beginning, which is much slower.\n",
        "\n",
        "12. Describe a scenario where using a tuple would be preferable over a list.\n",
        "\n",
        "- A good scenario would be storing geographical coordinates. A latitude and longitude pair, like (40.7128, -74.0060), is a fixed set of two values that you wouldn't want to change. Using a tuple makes it clear that this data is permanent and unalterable.\n",
        "\n",
        "13. How do sets handle duplicate values in Python?\n",
        "\n",
        "- Sets automatically discard duplicate values. When you add an item that already exists in a set, the set simply ignores it and the size remains unchanged. This makes them great for getting a unique list of items from a collection that might have duplicates\n",
        "\n",
        "14. How does the \"in\" keyword work differently for lists and dictionaries?\n",
        "\n",
        "- For lists, the in keyword checks for the presence of a value. It has to scan the list item by item, which can be slow for large lists. For dictionaries, in checks for the presence of a key. This is extremely fast because the dictionary uses a hash table to find the key's location directly.\n",
        "\n",
        "15. Can you modify the elements of a tuple? Explain why or why not.\n",
        "\n",
        "- No, you cannot modify the elements of a tuple. This is because tuples are immutable. Once an element is placed inside, its value and position are locked in. You would have to create a new tuple to reflect any changes.\n",
        "\n",
        "16. What is a nested dictionary, and give an example of its use case?\n",
        "\n",
        "- A nested dictionary is a dictionary where the values are themselves other dictionaries. An example would be a database of users, where each user's key maps to another dictionary containing their details like {'john_doe': {'age': 30, 'city': 'New York'}, 'jane_smith': {'age': 25, 'city': 'London'}}. This is useful for structuring complex, hierarchical data.\n",
        "\n",
        "17. Describe the time complexity of accessing elements in a dictionary.\n",
        "\n",
        "- The time complexity of accessing elements in a dictionary is, on average, O(1), which means it's constant time. This is because the hash table implementation allows the program to jump directly to the memory location of the key-value pair, regardless of the dictionary's size.\n",
        "\n",
        "18. In what situations are lists preferred over dictionaries?\n",
        "\n",
        "- Lists are preferred when the order of elements is important or when you need to access items by their numerical index (e.g., the 3rd item in a sequence). They are also a good choice when you have a simple sequence of items and don't need the key-value lookup functionality that a dictionary provides.\n",
        "\n",
        "19. Why are dictionaries considered unordered, and how does that affect data retrieval?\n",
        "\n",
        "- Before Python 3.7, dictionaries were considered unordered, meaning the order in which you inserted items was not guaranteed to be the order in which they were stored. Since Python 3.7, dictionaries do maintain insertion order. So, while historically a dictionary's \"unordered\" nature meant you couldn't rely on retrieval order, modern versions of Python now preserve it.\n",
        "\n",
        "20. Explain the difference between a list and a dictionary in terms of data retrieval.\n",
        "\n",
        "- With a list, you retrieve data by its index (its position in the list, like my_list[0]). Data retrieval can be slow as it might require a full scan. With a dictionary, you retrieve data by its key (like my_dict['user_id']). This is a much faster, direct lookup because of the hash table implementation."
      ]
    },
    {
      "cell_type": "markdown",
      "metadata": {
        "id": "er35Vled6iVP"
      },
      "source": [
        "# PRACTICAL QUESTIONS"
      ]
    },
    {
      "cell_type": "markdown",
      "metadata": {
        "id": "WIUDuXJ89mPp"
      },
      "source": [
        "1. Write a code to create a string with your name and print it."
      ]
    },
    {
      "cell_type": "code",
      "execution_count": null,
      "metadata": {
        "colab": {
          "base_uri": "https://localhost:8080/"
        },
        "id": "ycBhaWo09IiU",
        "outputId": "57869480-cad4-40d1-ceea-ab40f4ac7c1f"
      },
      "outputs": [
        {
          "name": "stdout",
          "output_type": "stream",
          "text": [
            "Your Name\n"
          ]
        }
      ],
      "source": [
        "a = \"Your Name\"\n",
        "print(a)"
      ]
    },
    {
      "cell_type": "markdown",
      "metadata": {
        "id": "J35WaEnZ9tKy"
      },
      "source": [
        "2. Write a code to find the length of the string \"Hello World\"."
      ]
    },
    {
      "cell_type": "code",
      "execution_count": null,
      "metadata": {
        "colab": {
          "base_uri": "https://localhost:8080/"
        },
        "id": "rc4BFTCf9yzP",
        "outputId": "301da8a7-c946-470b-c671-e69670786584"
      },
      "outputs": [
        {
          "name": "stdout",
          "output_type": "stream",
          "text": [
            "11\n"
          ]
        }
      ],
      "source": [
        "a = \"Hello World\"\n",
        "print(len(a))"
      ]
    },
    {
      "cell_type": "markdown",
      "metadata": {
        "id": "8W45hfqN-ECN"
      },
      "source": [
        "3. Write a code to slice the first 3 characters from the string \"Python Programming\"."
      ]
    },
    {
      "cell_type": "code",
      "execution_count": null,
      "metadata": {
        "colab": {
          "base_uri": "https://localhost:8080/"
        },
        "id": "Mtkw9hM5-Ke4",
        "outputId": "f811fd53-4304-4461-846f-3b79fbf202f0"
      },
      "outputs": [
        {
          "name": "stdout",
          "output_type": "stream",
          "text": [
            "Pyt\n"
          ]
        }
      ],
      "source": [
        "a = \"Python Programming\"\n",
        "print(a[0:3])"
      ]
    },
    {
      "cell_type": "markdown",
      "metadata": {
        "id": "QZcEWp8r-VD4"
      },
      "source": [
        "4. Write a code to convert the string \"hello\" to uppercase."
      ]
    },
    {
      "cell_type": "code",
      "execution_count": null,
      "metadata": {
        "colab": {
          "base_uri": "https://localhost:8080/"
        },
        "id": "cDYJqtpV-aki",
        "outputId": "efad078f-67f5-423f-96eb-c56ad3a7693c"
      },
      "outputs": [
        {
          "name": "stdout",
          "output_type": "stream",
          "text": [
            "HELLO\n"
          ]
        }
      ],
      "source": [
        "a = \"hello\"\n",
        "print(a.upper())"
      ]
    },
    {
      "cell_type": "markdown",
      "metadata": {
        "id": "R1R5Viq8-jwN"
      },
      "source": [
        "5. Write a code to replace the word \"apple\" with \"orange\" in the string \"I like apple\"."
      ]
    },
    {
      "cell_type": "code",
      "execution_count": null,
      "metadata": {
        "colab": {
          "base_uri": "https://localhost:8080/"
        },
        "id": "VWXWsQRS9-J3",
        "outputId": "ee31c97f-fd3b-4844-f13a-7e2b1545ae1c"
      },
      "outputs": [
        {
          "name": "stdout",
          "output_type": "stream",
          "text": [
            "I like orange\n"
          ]
        }
      ],
      "source": [
        "a = \"I like apple\"\n",
        "b = a.replace(\"apple\", \"orange\")\n",
        "print(b)"
      ]
    },
    {
      "cell_type": "markdown",
      "metadata": {
        "id": "-R22ojWM-6oQ"
      },
      "source": [
        "6. Write a code to create a list with numbers 1 to 5 and print it."
      ]
    },
    {
      "cell_type": "code",
      "execution_count": null,
      "metadata": {
        "colab": {
          "base_uri": "https://localhost:8080/"
        },
        "id": "Th-fKGrl_C-H",
        "outputId": "9debc2f6-a666-4c15-8b7f-9d976fd44194"
      },
      "outputs": [
        {
          "name": "stdout",
          "output_type": "stream",
          "text": [
            "[1, 2, 3, 4, 5]\n"
          ]
        }
      ],
      "source": [
        "a = [1, 2, 3, 4, 5]\n",
        "print(a)"
      ]
    },
    {
      "cell_type": "markdown",
      "metadata": {
        "id": "dPhAPiRy_MLE"
      },
      "source": [
        "7. Write a code to append the number 10 to the list [1, 2, 3, 4]."
      ]
    },
    {
      "cell_type": "code",
      "execution_count": null,
      "metadata": {
        "colab": {
          "base_uri": "https://localhost:8080/"
        },
        "id": "yZQ_GwMn_Say",
        "outputId": "95e0d4aa-53fa-4330-d372-792bdd6460a7"
      },
      "outputs": [
        {
          "name": "stdout",
          "output_type": "stream",
          "text": [
            "[1, 2, 3, 4, 10]\n"
          ]
        }
      ],
      "source": [
        "a = [1, 2, 3, 4]\n",
        "a.append(10)\n",
        "print(a)"
      ]
    },
    {
      "cell_type": "markdown",
      "metadata": {
        "id": "d4PMXrwB_d_J"
      },
      "source": [
        "8. Write a code to remove the number 3 from the list [1, 2, 3, 4, 5]."
      ]
    },
    {
      "cell_type": "code",
      "execution_count": null,
      "metadata": {
        "colab": {
          "base_uri": "https://localhost:8080/"
        },
        "id": "pKdgohyp_kyh",
        "outputId": "5a0e8716-c883-4a99-fe8b-ae20112bef53"
      },
      "outputs": [
        {
          "name": "stdout",
          "output_type": "stream",
          "text": [
            "[1, 2, 4, 5]\n"
          ]
        }
      ],
      "source": [
        "a = [1, 2, 3, 4, 5]\n",
        "a.remove(3)\n",
        "print(a)"
      ]
    },
    {
      "cell_type": "markdown",
      "metadata": {
        "id": "g5Frqe7u_0Fl"
      },
      "source": [
        "9. Write a code to access the second element in the list ['a', 'b', 'c', 'd']."
      ]
    },
    {
      "cell_type": "code",
      "execution_count": null,
      "metadata": {
        "colab": {
          "base_uri": "https://localhost:8080/"
        },
        "id": "hiVMT84H_82l",
        "outputId": "12d52b00-3a11-4bac-bc6b-64c6b3270ab6"
      },
      "outputs": [
        {
          "name": "stdout",
          "output_type": "stream",
          "text": [
            "b\n"
          ]
        }
      ],
      "source": [
        "a = ['a', 'b', 'c', 'd']\n",
        "print(a[1])"
      ]
    },
    {
      "cell_type": "markdown",
      "metadata": {
        "id": "jyFVYx8xAJW6"
      },
      "source": [
        "10. Write a code to reverse the list [10, 20, 30, 40, 50]."
      ]
    },
    {
      "cell_type": "code",
      "execution_count": null,
      "metadata": {
        "colab": {
          "base_uri": "https://localhost:8080/"
        },
        "id": "lBAPMHoaAOyy",
        "outputId": "c1436a7e-672a-4543-a252-2bb1f552614b"
      },
      "outputs": [
        {
          "name": "stdout",
          "output_type": "stream",
          "text": [
            "[50, 40, 30, 20, 10]\n"
          ]
        }
      ],
      "source": [
        "a = [10, 20, 30, 40, 50]\n",
        "a.reverse()\n",
        "print(a)"
      ]
    },
    {
      "cell_type": "markdown",
      "metadata": {
        "id": "lD1yIUawAdIV"
      },
      "source": [
        "11. Write a code to create a tuple with the elements 100, 200, 300 and print it."
      ]
    },
    {
      "cell_type": "code",
      "execution_count": null,
      "metadata": {
        "colab": {
          "base_uri": "https://localhost:8080/"
        },
        "id": "whzf985ACgdA",
        "outputId": "352ccad7-0d98-4f33-90ea-833ff24a16b3"
      },
      "outputs": [
        {
          "name": "stdout",
          "output_type": "stream",
          "text": [
            "(100, 200, 300)\n"
          ]
        }
      ],
      "source": [
        "a = (100, 200, 300)\n",
        "print(a)"
      ]
    },
    {
      "cell_type": "markdown",
      "metadata": {
        "id": "KOzhpbP-Cv4k"
      },
      "source": [
        "12. Write a code to access the second-to-last element of the tuple ('red', 'green', 'blue', 'yellow')."
      ]
    },
    {
      "cell_type": "code",
      "execution_count": null,
      "metadata": {
        "colab": {
          "base_uri": "https://localhost:8080/"
        },
        "id": "hgwvkwGpC6Sb",
        "outputId": "52c2799b-b901-4a4f-bbb0-6354fca939d8"
      },
      "outputs": [
        {
          "name": "stdout",
          "output_type": "stream",
          "text": [
            "blue\n"
          ]
        }
      ],
      "source": [
        "a = ('red', 'green', 'blue', 'yellow')\n",
        "print(a[-2])"
      ]
    },
    {
      "cell_type": "markdown",
      "metadata": {
        "id": "V9nD6qNHDCMa"
      },
      "source": [
        "13. Write a code to find the minimum number in the tuple (10, 20, 5, 15)."
      ]
    },
    {
      "cell_type": "code",
      "execution_count": null,
      "metadata": {
        "colab": {
          "base_uri": "https://localhost:8080/"
        },
        "id": "Ql2p1b_xDJgP",
        "outputId": "2e0c9fbd-e34b-442e-ad02-292d5eb2176b"
      },
      "outputs": [
        {
          "name": "stdout",
          "output_type": "stream",
          "text": [
            "5\n"
          ]
        }
      ],
      "source": [
        "a = (10, 20, 5, 15)\n",
        "print(min(a))"
      ]
    },
    {
      "cell_type": "markdown",
      "metadata": {
        "id": "lXMTJhs6DWSl"
      },
      "source": [
        "14. Write a code to find the index of the element \"cat\" in the tuple ('dog', 'cat', 'rabbit')"
      ]
    },
    {
      "cell_type": "code",
      "execution_count": null,
      "metadata": {
        "colab": {
          "base_uri": "https://localhost:8080/"
        },
        "id": "szJMBbHsDfVt",
        "outputId": "25207467-b5b3-4aff-8376-7bb719999d4a"
      },
      "outputs": [
        {
          "name": "stdout",
          "output_type": "stream",
          "text": [
            "1\n"
          ]
        }
      ],
      "source": [
        "a = ('dog', 'cat', 'rabbit')\n",
        "print(a.index('cat'))"
      ]
    },
    {
      "cell_type": "markdown",
      "metadata": {
        "id": "qK01NTJzDtzp"
      },
      "source": [
        "15. Write a code to create a tuple containing three different fruits and check if \"kiwi\" is in it."
      ]
    },
    {
      "cell_type": "code",
      "execution_count": null,
      "metadata": {
        "colab": {
          "base_uri": "https://localhost:8080/"
        },
        "id": "dnE9QYnyDzKF",
        "outputId": "f5f3bc9b-1756-4d61-9ddc-0d8b9fe6cfc5"
      },
      "outputs": [
        {
          "name": "stdout",
          "output_type": "stream",
          "text": [
            "False\n"
          ]
        }
      ],
      "source": [
        "fruits = ('apple', 'banana', 'orange')\n",
        "print('kiwi' in fruits)"
      ]
    },
    {
      "cell_type": "markdown",
      "metadata": {
        "id": "rCfe5j23D5Ba"
      },
      "source": [
        "16. Write a code to create a set with the elements 'a', 'b', 'c' and print it."
      ]
    },
    {
      "cell_type": "code",
      "execution_count": null,
      "metadata": {
        "colab": {
          "base_uri": "https://localhost:8080/"
        },
        "id": "uGg_zqryEFnE",
        "outputId": "2cf8bc02-50ce-4280-d83b-bce435f3c96d"
      },
      "outputs": [
        {
          "name": "stdout",
          "output_type": "stream",
          "text": [
            "{'b', 'a', 'c'}\n"
          ]
        }
      ],
      "source": [
        "my_set = {'a', 'b', 'c'}\n",
        "print(my_set)"
      ]
    },
    {
      "cell_type": "markdown",
      "metadata": {
        "id": "AqSdQXcqEW77"
      },
      "source": [
        "17. Write a code to clear all elements from the set {1, 2, 3, 4, 5}."
      ]
    },
    {
      "cell_type": "code",
      "execution_count": null,
      "metadata": {
        "colab": {
          "base_uri": "https://localhost:8080/"
        },
        "id": "Zr-6ZXzHEc7_",
        "outputId": "e92a7814-02d0-46df-c45c-8a1976878d68"
      },
      "outputs": [
        {
          "name": "stdout",
          "output_type": "stream",
          "text": [
            "set()\n"
          ]
        }
      ],
      "source": [
        "my_set = {1, 2, 3, 4, 5}\n",
        "my_set.clear()\n",
        "print(my_set)"
      ]
    },
    {
      "cell_type": "markdown",
      "metadata": {
        "id": "81gDiDQaEiBn"
      },
      "source": [
        "18. Write a code to remove the element 4 from the set {1, 2, 3, 4}."
      ]
    },
    {
      "cell_type": "code",
      "execution_count": null,
      "metadata": {
        "colab": {
          "base_uri": "https://localhost:8080/"
        },
        "id": "rucO4M-NEorq",
        "outputId": "3f470407-dbcd-410b-d241-c61944179c92"
      },
      "outputs": [
        {
          "name": "stdout",
          "output_type": "stream",
          "text": [
            "{1, 2, 3}\n"
          ]
        }
      ],
      "source": [
        "my_set = {1, 2, 3, 4}\n",
        "my_set.remove(4)\n",
        "print(my_set)"
      ]
    },
    {
      "cell_type": "markdown",
      "metadata": {
        "id": "MzUglpZcEuyU"
      },
      "source": [
        "19. Write a code to find the union of two sets {1, 2, 3} and {3, 4, 5}."
      ]
    },
    {
      "cell_type": "code",
      "execution_count": null,
      "metadata": {
        "colab": {
          "base_uri": "https://localhost:8080/"
        },
        "id": "EfEu0zOfE0MW",
        "outputId": "72508dc6-85aa-4f3f-9f78-1f65f9990737"
      },
      "outputs": [
        {
          "name": "stdout",
          "output_type": "stream",
          "text": [
            "{1, 2, 3, 4, 5}\n"
          ]
        }
      ],
      "source": [
        "set1 = {1, 2, 3}\n",
        "set2 = {3, 4, 5}\n",
        "print(set1.union(set2))"
      ]
    },
    {
      "cell_type": "markdown",
      "metadata": {
        "id": "5ruIZ1M8E6Sp"
      },
      "source": [
        "20. Write a code to find the intersection of two sets {1, 2, 3} and {2, 3, 4}."
      ]
    },
    {
      "cell_type": "code",
      "execution_count": null,
      "metadata": {
        "colab": {
          "base_uri": "https://localhost:8080/"
        },
        "id": "LuGr0mlZE_bf",
        "outputId": "fb983121-cb0d-4346-8682-a5e68dae1cfc"
      },
      "outputs": [
        {
          "name": "stdout",
          "output_type": "stream",
          "text": [
            "{2, 3}\n"
          ]
        }
      ],
      "source": [
        "set1 = {1, 2, 3}\n",
        "set2 = {2, 3, 4}\n",
        "print(set1.intersection(set2))"
      ]
    },
    {
      "cell_type": "markdown",
      "metadata": {
        "id": "8SrYIjiFFEKJ"
      },
      "source": [
        "21. Write a code to create a dictionary with the keys \"name\", \"age\", and \"city\", and print it."
      ]
    },
    {
      "cell_type": "code",
      "execution_count": null,
      "metadata": {
        "colab": {
          "base_uri": "https://localhost:8080/"
        },
        "id": "pCC_eGJWFI9v",
        "outputId": "46984181-5ad3-441e-b2b0-8b2f58533f6a"
      },
      "outputs": [
        {
          "name": "stdout",
          "output_type": "stream",
          "text": [
            "{'name': 'aadi', 'age': 22, 'city': 'bhopal'}\n"
          ]
        }
      ],
      "source": [
        "person = { \"name\": \"aadi\",  \"age\": 22, \"city\": \"bhopal\"}\n",
        "print(person)"
      ]
    },
    {
      "cell_type": "markdown",
      "metadata": {
        "id": "382ytP5lFnM6"
      },
      "source": [
        "22. Write a code to add a new key-value pair \"country\": \"USA\" to the dictionary {'name': 'John', 'age': 25}."
      ]
    },
    {
      "cell_type": "code",
      "execution_count": null,
      "metadata": {
        "colab": {
          "base_uri": "https://localhost:8080/"
        },
        "id": "5gaRbKXvFtcP",
        "outputId": "7ca09c04-bd66-4439-9528-00e9fb9366bd"
      },
      "outputs": [
        {
          "name": "stdout",
          "output_type": "stream",
          "text": [
            "{'name': 'John', 'age': 25, 'country': 'USA'}\n"
          ]
        }
      ],
      "source": [
        "person = {\"name\": \"John\",\"age\": 25}\n",
        "person['country'] = \"USA\"\n",
        "print(person)"
      ]
    },
    {
      "cell_type": "markdown",
      "metadata": {
        "id": "DUTNP9WoF8Zm"
      },
      "source": [
        "23. Write a code to access the value associated with the key \"name\" in the dictionary {'name': 'Alice', 'age': 30}."
      ]
    },
    {
      "cell_type": "code",
      "execution_count": null,
      "metadata": {
        "colab": {
          "base_uri": "https://localhost:8080/"
        },
        "id": "NZmUZ2rfGBME",
        "outputId": "dee93b9d-7964-4448-a591-1af496720e01"
      },
      "outputs": [
        {
          "name": "stdout",
          "output_type": "stream",
          "text": [
            "Alice\n"
          ]
        }
      ],
      "source": [
        "person = {\"name\": \"Alice\",\"age\": 30}\n",
        "\n",
        "print(person['name'])"
      ]
    },
    {
      "cell_type": "markdown",
      "metadata": {
        "id": "7dpfhlWHGOAV"
      },
      "source": [
        "24. Write a code to remove the key \"age\" from the dictionary {'name': 'Bob', 'age': 22, 'city': 'New York'}."
      ]
    },
    {
      "cell_type": "code",
      "execution_count": null,
      "metadata": {
        "colab": {
          "base_uri": "https://localhost:8080/"
        },
        "id": "EBize4sLGU84",
        "outputId": "e3d89ae0-3a55-4ccc-fdb4-e342e60b051c"
      },
      "outputs": [
        {
          "name": "stdout",
          "output_type": "stream",
          "text": [
            "{'name': 'Bob', 'city': 'New York'}\n"
          ]
        }
      ],
      "source": [
        "person = {\"name\": \"Bob\",\"age\": 22,\"city\":\"New York\"}\n",
        "del person['age']\n",
        "print(person)"
      ]
    },
    {
      "cell_type": "markdown",
      "metadata": {
        "id": "JjfDmz4NGjFk"
      },
      "source": [
        "25. Write a code to check if the key \"city\" exists in the dictionary {'name': 'Alice', 'city': 'Paris'}."
      ]
    },
    {
      "cell_type": "code",
      "execution_count": null,
      "metadata": {
        "colab": {
          "base_uri": "https://localhost:8080/"
        },
        "id": "JKCuRFOQGpGE",
        "outputId": "650a1bb4-94b3-4c8d-a6d2-5873b7d1a00c"
      },
      "outputs": [
        {
          "name": "stdout",
          "output_type": "stream",
          "text": [
            "True\n"
          ]
        }
      ],
      "source": [
        "person = {\"name\": \"Alice\",\"city\": \"Paris\"}\n",
        "print('city' in person)"
      ]
    },
    {
      "cell_type": "markdown",
      "metadata": {
        "id": "XW6epT2VG8ZH"
      },
      "source": [
        "26. Write a code to create a list, a tuple, and a dictionary, and print them all."
      ]
    },
    {
      "cell_type": "code",
      "execution_count": null,
      "metadata": {
        "colab": {
          "base_uri": "https://localhost:8080/"
        },
        "id": "wf1n0O1oHBSy",
        "outputId": "789ca207-1374-4025-9fbe-746047f48267"
      },
      "outputs": [
        {
          "name": "stdout",
          "output_type": "stream",
          "text": [
            "[1, 2, 3]\n",
            "(1, 2, 3)\n",
            "{'a': 1, 'b': 2}\n"
          ]
        }
      ],
      "source": [
        "my_list = [1, 2, 3]\n",
        "my_tuple = (1, 2, 3)\n",
        "my_dict = {\"a\": 1, \"b\": 2}\n",
        "\n",
        "print(my_list)\n",
        "print(my_tuple)\n",
        "print(my_dict)"
      ]
    },
    {
      "cell_type": "markdown",
      "metadata": {
        "id": "4fDuB4p8HJ_V"
      },
      "source": [
        "27. Write a code to create a list of 5 random numbers between 1 and 100, sort it in ascending order, and print the result."
      ]
    },
    {
      "cell_type": "code",
      "execution_count": null,
      "metadata": {
        "colab": {
          "base_uri": "https://localhost:8080/"
        },
        "id": "CYZmOOW0HQ6K",
        "outputId": "d41fb69c-baf0-4867-f056-0f9aa7cb306f"
      },
      "outputs": [
        {
          "name": "stdout",
          "output_type": "stream",
          "text": [
            "[22, 30, 36, 63, 76]\n"
          ]
        }
      ],
      "source": [
        "import random\n",
        "\n",
        "random_numbers = [random.randint(1, 100) for _ in range(5)]\n",
        "random_numbers.sort()\n",
        "print(random_numbers)"
      ]
    },
    {
      "cell_type": "markdown",
      "metadata": {
        "id": "wi11UG54HZDa"
      },
      "source": [
        "28. Write a code to create a list with strings and print the element at the third index."
      ]
    },
    {
      "cell_type": "code",
      "execution_count": null,
      "metadata": {
        "colab": {
          "base_uri": "https://localhost:8080/"
        },
        "id": "q1moSXkoHe5A",
        "outputId": "99b84556-fdbb-43b8-a4e2-8b294935fcb3"
      },
      "outputs": [
        {
          "name": "stdout",
          "output_type": "stream",
          "text": [
            "date\n"
          ]
        }
      ],
      "source": [
        "my_list = [\"apple\", \"banana\", \"cherry\", \"date\"]\n",
        "print(my_list[3])"
      ]
    },
    {
      "cell_type": "markdown",
      "metadata": {
        "id": "SIOBcdbJHmf4"
      },
      "source": [
        "29. Write a code to combine two dictionaries into one and print the result."
      ]
    },
    {
      "cell_type": "code",
      "source": [
        "dict1 = {\"name\": \"Alex\", \"age\": 30}\n",
        "dict2 = {\"city\": \"Berlin\", \"country\": \"Germany\"}\n",
        "\n",
        "combined_dict = {**dict1, **dict2}\n",
        "print(combined_dict)"
      ],
      "metadata": {
        "colab": {
          "base_uri": "https://localhost:8080/"
        },
        "id": "yVZP58eJSvVw",
        "outputId": "6655e42f-ffb3-4374-d29e-fc9106235385"
      },
      "execution_count": 7,
      "outputs": [
        {
          "output_type": "stream",
          "name": "stdout",
          "text": [
            "{'name': 'Alex', 'age': 30, 'city': 'Berlin', 'country': 'Germany'}\n"
          ]
        }
      ]
    },
    {
      "cell_type": "markdown",
      "source": [
        "30. Write a code to convert a list of strings into a set."
      ],
      "metadata": {
        "id": "wie2FHYbSx_5"
      }
    },
    {
      "cell_type": "code",
      "source": [
        "my_list = [\"apple\", \"banana\", \"apple\", \"cherry\"]\n",
        "my_set = set(my_list)\n",
        "print(my_set)"
      ],
      "metadata": {
        "colab": {
          "base_uri": "https://localhost:8080/"
        },
        "id": "RdhYcYwcS23g",
        "outputId": "334a9e19-c64f-4f58-e0cf-f098270e1eeb"
      },
      "execution_count": 8,
      "outputs": [
        {
          "output_type": "stream",
          "name": "stdout",
          "text": [
            "{'banana', 'cherry', 'apple'}\n"
          ]
        }
      ]
    }
  ],
  "metadata": {
    "colab": {
      "provenance": []
    },
    "kernelspec": {
      "display_name": "Python 3",
      "name": "python3"
    },
    "language_info": {
      "name": "python"
    }
  },
  "nbformat": 4,
  "nbformat_minor": 0
}